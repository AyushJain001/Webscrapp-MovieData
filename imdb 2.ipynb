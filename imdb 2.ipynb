{
 "cells": [
  {
   "cell_type": "code",
   "execution_count": 1,
   "metadata": {},
   "outputs": [
    {
     "name": "stdout",
     "output_type": "stream",
     "text": [
      "Collecting pandas.profiling\n",
      "  Using cached https://files.pythonhosted.org/packages/b8/bb/7d1a8523711c7022601d17a8449b822dc5ffaf272692d3538771b0538631/pandas_profiling-3.1.0-py2.py3-none-any.whl\n",
      "Requirement already satisfied: numpy>=1.16.0 in c:\\users\\jaina\\anaconda3\\lib\\site-packages (from pandas.profiling) (1.21.2)\n",
      "Requirement already satisfied: seaborn>=0.10.1 in c:\\users\\jaina\\anaconda3\\lib\\site-packages (from pandas.profiling) (0.11.2)\n",
      "Requirement already satisfied: pandas!=1.0.0,!=1.0.1,!=1.0.2,!=1.1.0,>=0.25.3 in c:\\users\\jaina\\anaconda3\\lib\\site-packages (from pandas.profiling) (1.3.3)\n",
      "Requirement already satisfied: visions[type_image_path]==0.7.4 in c:\\users\\jaina\\anaconda3\\lib\\site-packages (from pandas.profiling) (0.7.4)\n",
      "Requirement already satisfied: matplotlib>=3.2.0 in c:\\users\\jaina\\anaconda3\\lib\\site-packages (from pandas.profiling) (3.4.3)\n",
      "Requirement already satisfied: joblib~=1.0.1 in c:\\users\\jaina\\anaconda3\\lib\\site-packages (from pandas.profiling) (1.0.1)\n",
      "Requirement already satisfied: requests>=2.24.0 in c:\\users\\jaina\\anaconda3\\lib\\site-packages (from pandas.profiling) (2.24.0)\n",
      "Requirement already satisfied: pydantic>=1.8.1 in c:\\users\\jaina\\anaconda3\\lib\\site-packages (from pandas.profiling) (1.8.2)\n",
      "Requirement already satisfied: PyYAML>=5.0.0 in c:\\users\\jaina\\anaconda3\\lib\\site-packages (from pandas.profiling) (5.1.2)\n",
      "Requirement already satisfied: scipy>=1.4.1 in c:\\users\\jaina\\anaconda3\\lib\\site-packages (from pandas.profiling) (1.7.1)\n",
      "Requirement already satisfied: markupsafe~=2.0.1 in c:\\users\\jaina\\anaconda3\\lib\\site-packages (from pandas.profiling) (2.0.1)\n",
      "Requirement already satisfied: missingno>=0.4.2 in c:\\users\\jaina\\anaconda3\\lib\\site-packages (from pandas.profiling) (0.5.0)\n",
      "Requirement already satisfied: htmlmin>=0.1.12 in c:\\users\\jaina\\anaconda3\\lib\\site-packages (from pandas.profiling) (0.1.12)\n",
      "Requirement already satisfied: tqdm>=4.48.2 in c:\\users\\jaina\\anaconda3\\lib\\site-packages (from pandas.profiling) (4.62.3)\n",
      "Requirement already satisfied: multimethod>=1.4 in c:\\users\\jaina\\anaconda3\\lib\\site-packages (from pandas.profiling) (1.6)\n",
      "Requirement already satisfied: jinja2>=2.11.1 in c:\\users\\jaina\\anaconda3\\lib\\site-packages (from pandas.profiling) (2.11.2)\n",
      "Requirement already satisfied: phik>=0.11.1 in c:\\users\\jaina\\anaconda3\\lib\\site-packages (from pandas.profiling) (0.12.0)\n",
      "Requirement already satisfied: tangled-up-in-unicode==0.1.0 in c:\\users\\jaina\\anaconda3\\lib\\site-packages (from pandas.profiling) (0.1.0)\n",
      "Requirement already satisfied: python-dateutil>=2.7.3 in c:\\users\\jaina\\anaconda3\\lib\\site-packages (from pandas!=1.0.0,!=1.0.1,!=1.0.2,!=1.1.0,>=0.25.3->pandas.profiling) (2.8.0)\n",
      "Requirement already satisfied: pytz>=2017.3 in c:\\users\\jaina\\anaconda3\\lib\\site-packages (from pandas!=1.0.0,!=1.0.1,!=1.0.2,!=1.1.0,>=0.25.3->pandas.profiling) (2019.3)\n",
      "Requirement already satisfied: networkx>=2.4 in c:\\users\\jaina\\anaconda3\\lib\\site-packages (from visions[type_image_path]==0.7.4->pandas.profiling) (2.6.3)\n",
      "Requirement already satisfied: attrs>=19.3.0 in c:\\users\\jaina\\anaconda3\\lib\\site-packages (from visions[type_image_path]==0.7.4->pandas.profiling) (21.2.0)\n",
      "Requirement already satisfied: imagehash; extra == \"type_image_path\" in c:\\users\\jaina\\anaconda3\\lib\\site-packages (from visions[type_image_path]==0.7.4->pandas.profiling) (4.2.1)\n",
      "Requirement already satisfied: Pillow; extra == \"type_image_path\" in c:\\users\\jaina\\anaconda3\\lib\\site-packages (from visions[type_image_path]==0.7.4->pandas.profiling) (6.2.0)\n",
      "Requirement already satisfied: cycler>=0.10 in c:\\users\\jaina\\anaconda3\\lib\\site-packages (from matplotlib>=3.2.0->pandas.profiling) (0.10.0)\n",
      "Requirement already satisfied: pyparsing>=2.2.1 in c:\\users\\jaina\\anaconda3\\lib\\site-packages (from matplotlib>=3.2.0->pandas.profiling) (2.4.2)\n",
      "Requirement already satisfied: kiwisolver>=1.0.1 in c:\\users\\jaina\\anaconda3\\lib\\site-packages (from matplotlib>=3.2.0->pandas.profiling) (1.1.0)\n",
      "Requirement already satisfied: chardet<4,>=3.0.2 in c:\\users\\jaina\\anaconda3\\lib\\site-packages (from requests>=2.24.0->pandas.profiling) (3.0.4)\n",
      "Requirement already satisfied: idna<3,>=2.5 in c:\\users\\jaina\\anaconda3\\lib\\site-packages (from requests>=2.24.0->pandas.profiling) (2.10)\n",
      "Requirement already satisfied: certifi>=2017.4.17 in c:\\users\\jaina\\anaconda3\\lib\\site-packages (from requests>=2.24.0->pandas.profiling) (2020.6.20)\n",
      "Requirement already satisfied: urllib3!=1.25.0,!=1.25.1,<1.26,>=1.21.1 in c:\\users\\jaina\\anaconda3\\lib\\site-packages (from requests>=2.24.0->pandas.profiling) (1.25.10)\n",
      "Requirement already satisfied: typing-extensions>=3.7.4.3 in c:\\users\\jaina\\anaconda3\\lib\\site-packages (from pydantic>=1.8.1->pandas.profiling) (3.10.0.2)\n",
      "Requirement already satisfied: colorama; platform_system == \"Windows\" in c:\\users\\jaina\\anaconda3\\lib\\site-packages (from tqdm>=4.48.2->pandas.profiling) (0.4.1)\n",
      "Requirement already satisfied: six>=1.5 in c:\\users\\jaina\\anaconda3\\lib\\site-packages (from python-dateutil>=2.7.3->pandas!=1.0.0,!=1.0.1,!=1.0.2,!=1.1.0,>=0.25.3->pandas.profiling) (1.15.0)\n",
      "Requirement already satisfied: PyWavelets in c:\\users\\jaina\\anaconda3\\lib\\site-packages (from imagehash; extra == \"type_image_path\"->visions[type_image_path]==0.7.4->pandas.profiling) (1.0.3)\n",
      "Requirement already satisfied: setuptools in c:\\users\\jaina\\anaconda3\\lib\\site-packages (from kiwisolver>=1.0.1->matplotlib>=3.2.0->pandas.profiling) (41.4.0)\n",
      "Installing collected packages: pandas.profiling\n",
      "Successfully installed pandas.profiling\n"
     ]
    }
   ],
   "source": [
    "!pip install pandas.profiling"
   ]
  },
  {
   "cell_type": "code",
   "execution_count": 2,
   "metadata": {},
   "outputs": [],
   "source": [
    "import pandas as pd   #to create dataframe\n",
    "import requests       #to send the request to the URL\n",
    "from bs4 import BeautifulSoup #to get the content in the form of HTML\n",
    "import numpy as np  # to count the values \n",
    "movie_name = []\n",
    "year = []\n",
    "time = []\n",
    "rating = []\n",
    "metascore = []\n",
    "votes = []\n",
    "gross = []\n",
    "description = []\n",
    "Director = []\n",
    "Stars = []\n",
    "for i in range(1,1000,100):\n",
    "    url = 'https://www.imdb.com/search/title/?groups=top_1000&sort=user_rating,desc&count=100&start=i&ref_=adv_nxt'\n",
    "#request allow you to send HTTP request\n",
    "    response = requests.get(url)\n",
    "    soup = BeautifulSoup(response.content, 'html.parser')\n",
    "#storing the meaningfull required data in the variable\n",
    "    movie_data = soup.findAll('div', attrs= {'class': 'lister-item mode-advanced'})\n",
    "\n",
    "#calling one by one using for loop\n",
    "    for store in movie_data:\n",
    "        name = store.h3.a.text\n",
    "        movie_name.append(name)\n",
    "\n",
    "        year_of_release = store.h3.find('span', class_ = 'lister-item-year text-muted unbold').text.replace('(', '').replace(')', '')\n",
    "        year.append(year_of_release)\n",
    "\n",
    "        runtime = store.p.find('span', class_ = 'runtime').text.replace(' min', '')\n",
    "        time.append(runtime)\n",
    "\n",
    "        rate = store.find('div', class_ = 'inline-block ratings-imdb-rating').text.replace('\\n', '')\n",
    "        rating.append(rate)\n",
    "\n",
    "        meta  = store.find('span', class_ = 'metascore').text.replace(' ', '') if store.find('span', class_ = 'metascore') else 'Nan'\n",
    "        metascore.append(meta)\n",
    "        #since, gross and votes have same attributes, that's why we had created a common variable and then used indexing\n",
    "        value = store.find_all('span', attrs = {'name': 'nv'})\n",
    "\n",
    "        vote = value[0].text\n",
    "        votes.append(vote)\n",
    "\n",
    "        grosses = value[1].text if len(value) >1 else 'Nan'\n",
    "        gross.append(grosses)\n",
    "\n",
    "        # Description of the Movies\n",
    "        describe = store.find_all('p', class_ = 'text-muted')\n",
    "        description_ = describe[1].text.replace('\\n', '') if len(describe) >1 else 'Nan'\n",
    "        description.append(description_)\n",
    "\n",
    "        #Cast Details \n",
    "        cast = store.find(\"p\", class_ = '')\n",
    "        cast = cast.text.replace('\\n', '').split('|')\n",
    "        cast = [x.strip() for x in cast]\n",
    "        cast = [cast[i].replace(j, \"\") for i,j in enumerate([\"Director:\", \"Stars:\"])]\n",
    "        Director.append(cast[0])\n",
    "        Stars.append([x.strip() for x in cast[1].split(\",\")])\n",
    "\n",
    "\n",
    "    #creating a dataframe using pandas library\n",
    "movie_DF = pd.DataFrame({'Name of movie': movie_name, 'Year of relase': year, 'Watchtime': time, 'Movie Rating': rating, 'Metascore': metascore, 'Votes': votes, 'Gross collection': gross, 'Description': description, \"Director\": Director, 'Star': Stars})"
   ]
  },
  {
   "cell_type": "code",
   "execution_count": 3,
   "metadata": {
    "scrolled": true
   },
   "outputs": [
    {
     "data": {
      "text/html": [
       "<div>\n",
       "<style scoped>\n",
       "    .dataframe tbody tr th:only-of-type {\n",
       "        vertical-align: middle;\n",
       "    }\n",
       "\n",
       "    .dataframe tbody tr th {\n",
       "        vertical-align: top;\n",
       "    }\n",
       "\n",
       "    .dataframe thead th {\n",
       "        text-align: right;\n",
       "    }\n",
       "</style>\n",
       "<table border=\"1\" class=\"dataframe\">\n",
       "  <thead>\n",
       "    <tr style=\"text-align: right;\">\n",
       "      <th></th>\n",
       "      <th>Name of movie</th>\n",
       "      <th>Year of relase</th>\n",
       "      <th>Watchtime</th>\n",
       "      <th>Movie Rating</th>\n",
       "      <th>Metascore</th>\n",
       "      <th>Votes</th>\n",
       "      <th>Gross collection</th>\n",
       "      <th>Description</th>\n",
       "      <th>Director</th>\n",
       "      <th>Star</th>\n",
       "    </tr>\n",
       "  </thead>\n",
       "  <tbody>\n",
       "    <tr>\n",
       "      <th>995</th>\n",
       "      <td>Vikram Vedha</td>\n",
       "      <td>2017</td>\n",
       "      <td>147</td>\n",
       "      <td>8.3</td>\n",
       "      <td>Nan</td>\n",
       "      <td>35,991</td>\n",
       "      <td>Nan</td>\n",
       "      <td>Vikram, a no-nonsense police officer, accompan...</td>\n",
       "      <td>Directors:Gayatri, Pushkar</td>\n",
       "      <td>[Madhavan, Vijay Sethupathi, Shraddha Srinath,...</td>\n",
       "    </tr>\n",
       "    <tr>\n",
       "      <th>996</th>\n",
       "      <td>Drishyam</td>\n",
       "      <td>2013</td>\n",
       "      <td>160</td>\n",
       "      <td>8.3</td>\n",
       "      <td>Nan</td>\n",
       "      <td>39,702</td>\n",
       "      <td>#242</td>\n",
       "      <td>A man goes to extreme lengths to save his fami...</td>\n",
       "      <td>Jeethu Joseph</td>\n",
       "      <td>[Mohanlal, Meena, Asha Sharath, Ansiba]</td>\n",
       "    </tr>\n",
       "    <tr>\n",
       "      <th>997</th>\n",
       "      <td>Jagten</td>\n",
       "      <td>2012</td>\n",
       "      <td>115</td>\n",
       "      <td>8.3</td>\n",
       "      <td>77</td>\n",
       "      <td>314,252</td>\n",
       "      <td>$0.69M</td>\n",
       "      <td>A teacher lives a lonely life, all the while s...</td>\n",
       "      <td>Thomas Vinterberg</td>\n",
       "      <td>[Mads Mikkelsen, Thomas Bo Larsen, Annika Wedd...</td>\n",
       "    </tr>\n",
       "    <tr>\n",
       "      <th>998</th>\n",
       "      <td>Jodaeiye Nader az Simin</td>\n",
       "      <td>2011</td>\n",
       "      <td>123</td>\n",
       "      <td>8.3</td>\n",
       "      <td>95</td>\n",
       "      <td>238,632</td>\n",
       "      <td>$7.10M</td>\n",
       "      <td>A married couple are faced with a difficult de...</td>\n",
       "      <td>Asghar Farhadi</td>\n",
       "      <td>[Payman Maadi, Leila Hatami, Sareh Bayat, Shah...</td>\n",
       "    </tr>\n",
       "    <tr>\n",
       "      <th>999</th>\n",
       "      <td>Incendies</td>\n",
       "      <td>2010</td>\n",
       "      <td>131</td>\n",
       "      <td>8.3</td>\n",
       "      <td>80</td>\n",
       "      <td>169,107</td>\n",
       "      <td>$6.86M</td>\n",
       "      <td>Twins journey to the Middle East to discover t...</td>\n",
       "      <td>Denis Villeneuve</td>\n",
       "      <td>[Lubna Azabal, Mélissa Désormeaux-Poulin, Maxi...</td>\n",
       "    </tr>\n",
       "  </tbody>\n",
       "</table>\n",
       "</div>"
      ],
      "text/plain": [
       "               Name of movie Year of relase Watchtime Movie Rating Metascore  \\\n",
       "995             Vikram Vedha           2017       147          8.3       Nan   \n",
       "996                 Drishyam           2013       160          8.3       Nan   \n",
       "997                   Jagten           2012       115          8.3        77   \n",
       "998  Jodaeiye Nader az Simin           2011       123          8.3        95   \n",
       "999                Incendies           2010       131          8.3        80   \n",
       "\n",
       "       Votes Gross collection  \\\n",
       "995   35,991              Nan   \n",
       "996   39,702             #242   \n",
       "997  314,252           $0.69M   \n",
       "998  238,632           $7.10M   \n",
       "999  169,107           $6.86M   \n",
       "\n",
       "                                           Description  \\\n",
       "995  Vikram, a no-nonsense police officer, accompan...   \n",
       "996  A man goes to extreme lengths to save his fami...   \n",
       "997  A teacher lives a lonely life, all the while s...   \n",
       "998  A married couple are faced with a difficult de...   \n",
       "999  Twins journey to the Middle East to discover t...   \n",
       "\n",
       "                       Director  \\\n",
       "995  Directors:Gayatri, Pushkar   \n",
       "996               Jeethu Joseph   \n",
       "997           Thomas Vinterberg   \n",
       "998              Asghar Farhadi   \n",
       "999            Denis Villeneuve   \n",
       "\n",
       "                                                  Star  \n",
       "995  [Madhavan, Vijay Sethupathi, Shraddha Srinath,...  \n",
       "996            [Mohanlal, Meena, Asha Sharath, Ansiba]  \n",
       "997  [Mads Mikkelsen, Thomas Bo Larsen, Annika Wedd...  \n",
       "998  [Payman Maadi, Leila Hatami, Sareh Bayat, Shah...  \n",
       "999  [Lubna Azabal, Mélissa Désormeaux-Poulin, Maxi...  "
      ]
     },
     "execution_count": 3,
     "metadata": {},
     "output_type": "execute_result"
    }
   ],
   "source": [
    "movie_DF.tail()"
   ]
  },
  {
   "cell_type": "code",
   "execution_count": 4,
   "metadata": {},
   "outputs": [],
   "source": [
    "movie_DF.to_csv(\"IMDB_new.csv\")"
   ]
  },
  {
   "cell_type": "code",
   "execution_count": 5,
   "metadata": {},
   "outputs": [
    {
     "data": {
      "text/plain": [
       "(1000, 10)"
      ]
     },
     "execution_count": 5,
     "metadata": {},
     "output_type": "execute_result"
    }
   ],
   "source": [
    "movie_DF.shape"
   ]
  },
  {
   "cell_type": "code",
   "execution_count": 7,
   "metadata": {},
   "outputs": [
    {
     "data": {
      "application/vnd.jupyter.widget-view+json": {
       "model_id": "84ab2c8bbdb84738bd3f87c8a107404a",
       "version_major": 2,
       "version_minor": 0
      },
      "text/plain": [
       "Summarize dataset:   0%|          | 0/5 [00:00<?, ?it/s]"
      ]
     },
     "metadata": {},
     "output_type": "display_data"
    },
    {
     "name": "stderr",
     "output_type": "stream",
     "text": [
      "C:\\Users\\jaina\\Anaconda3\\lib\\site-packages\\scipy\\cluster\\hierarchy.py:2844: UserWarning: Attempting to set identical bottom == top == 0.0 results in singular transformations; automatically expanding.\n",
      "  ax.set_ylim([dvw, 0])\n"
     ]
    },
    {
     "data": {
      "application/vnd.jupyter.widget-view+json": {
       "model_id": "aebbcd0810ca4f5791d7128b5d7c7027",
       "version_major": 2,
       "version_minor": 0
      },
      "text/plain": [
       "Generate report structure:   0%|          | 0/1 [00:00<?, ?it/s]"
      ]
     },
     "metadata": {},
     "output_type": "display_data"
    },
    {
     "data": {
      "application/vnd.jupyter.widget-view+json": {
       "model_id": "d13e534e56df4d8f91cacb7c61a78ae4",
       "version_major": 2,
       "version_minor": 0
      },
      "text/plain": [
       "Render HTML:   0%|          | 0/1 [00:00<?, ?it/s]"
      ]
     },
     "metadata": {},
     "output_type": "display_data"
    },
    {
     "data": {
      "application/vnd.jupyter.widget-view+json": {
       "model_id": "d9ffabe949404b55b7ff94c24996893d",
       "version_major": 2,
       "version_minor": 0
      },
      "text/plain": [
       "Export report to file:   0%|          | 0/1 [00:00<?, ?it/s]"
      ]
     },
     "metadata": {},
     "output_type": "display_data"
    }
   ],
   "source": [
    "from pandas_profiling import ProfileReport\n",
    "prof=ProfileReport(movie_DF)\n",
    "prof.to_file(output_file=\"NewProfiling_IMDB.html\")"
   ]
  },
  {
   "cell_type": "code",
   "execution_count": null,
   "metadata": {},
   "outputs": [],
   "source": []
  }
 ],
 "metadata": {
  "kernelspec": {
   "display_name": "Python 3",
   "language": "python",
   "name": "python3"
  },
  "language_info": {
   "codemirror_mode": {
    "name": "ipython",
    "version": 3
   },
   "file_extension": ".py",
   "mimetype": "text/x-python",
   "name": "python",
   "nbconvert_exporter": "python",
   "pygments_lexer": "ipython3",
   "version": "3.7.4"
  }
 },
 "nbformat": 4,
 "nbformat_minor": 2
}
